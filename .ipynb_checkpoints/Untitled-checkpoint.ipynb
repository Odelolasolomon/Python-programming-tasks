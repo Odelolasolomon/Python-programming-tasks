{
 "cells": [
  {
   "cell_type": "markdown",
   "id": "388540b8",
   "metadata": {},
   "source": [
    "#### Task 1\n",
    "> Write a program that asks the user to input his/her date of birth in the format dd/mm/yyyy.\n",
    "If the input is not in the correct format or the date is invalid the program should output an \n",
    "appropriate error message. If the input is a valid date the program should calculate and \n",
    "output the user’s age. (You will need to check whether the user has had a birthday this \n",
    "year e.g. someone born on 01/11/2000 will be 23 on 15 December 2023, but someone \n",
    "born on 25/12/2000 will still be 22.) The program should additionally output a “Happy \n",
    "birthday” message if it is the user’s birthday today"
   ]
  },
  {
   "cell_type": "code",
   "execution_count": 14,
   "id": "493c93a2",
   "metadata": {},
   "outputs": [
    {
     "name": "stdout",
     "output_type": "stream",
     "text": [
      "Please enter your birthdate in the following format (dd/mm/yyyy)\n",
      ">>> 14/11/2011\n",
      "Your birthday is on 14 of November, 2011\n",
      "You are 12 years old\n"
     ]
    }
   ],
   "source": [
    "import datetime as date\n",
    "\n",
    "def calculateAge(birthDate): \n",
    "    \"\"\"\"\n",
    "    Arguments\n",
    "    birthDate--------- (users birthdate to be inputed in the proper format)\n",
    "    variables---- today (today's date gotten from datetime module)\n",
    "    \n",
    "    Returns:\n",
    "    age --- returns the calculated age of the user\n",
    "    \"\"\"\n",
    "    \n",
    "    today = date.datetime.today() \n",
    "    age = today.year - birthDate.year - ((today.month, today.day) < (birthDate.month, birthDate.day))\n",
    "    return age    \n",
    "\n",
    "def getBirthDate():\n",
    "    while True:\n",
    "        birthDate = input(\"Please enter your birthdate in the following format (dd/mm/yyyy)\\n>>> \")\n",
    "        try:\n",
    "            birthDate = date.datetime.strptime(birthDate, \"%d/%m/%Y\").date()\n",
    "            break\n",
    "        except ValueError:\n",
    "            print(\"Invalid date format. Please enter your birthdate in the format (dd/mm/yyyy)\")\n",
    "\n",
    "    return birthDate\n",
    "\n",
    "def main():\n",
    "    birthDate = getBirthDate()\n",
    "    print(\"Your birthday is on \" + birthDate.strftime(\"%d\") + \" of \" + birthDate.strftime(\"%B, %Y\"))\n",
    "\n",
    "    # Let's print the age now\n",
    "    print(\"You are\", calculateAge(birthDate), \"years old\")\n",
    "\n",
    "if __name__ == \"__main__\":\n",
    "    main()\n"
   ]
  },
  {
   "cell_type": "markdown",
   "id": "cc907eb5",
   "metadata": {},
   "source": [
    "#### Task 2\n",
    "> Write a function that returns a list of the prime numbers between two positive integers \n",
    "supplied as arguments. Use this is in a program that asks the user to supply two positive \n",
    "integers, checks that the input is valid, then calls the function and outputs the numbers in \n",
    "the returned list, with 10 numbers per output line. \n",
    "If the user enters negative numbers or supplies non-numeric input the program should \n",
    "output an appropriate error message; the two numbers should be accepted in either order. \n",
    "The range should be inclusive; if the user inputs 103 and 1009 (or 1009 and 103) these \n",
    "two numbers (which are both prime) should be included in the output."
   ]
  },
  {
   "cell_type": "code",
   "execution_count": 15,
   "id": "fdac912b",
   "metadata": {},
   "outputs": [
    {
     "name": "stdout",
     "output_type": "stream",
     "text": [
      "Enter the starting positive integer: 1\n",
      "Enter the ending positive integer: 44\n",
      "Prime numbers between 1 and 44 are: [2, 3, 5, 7, 11, 13, 17, 19, 23, 29, 31, 37, 41, 43]\n"
     ]
    }
   ],
   "source": [
    "def is_prime(num):\n",
    "    if num < 2:\n",
    "        return False\n",
    "    for i in range(2, int(num**0.5) + 1):\n",
    "        if num % i == 0:\n",
    "            return False\n",
    "    return True\n",
    "\n",
    "def generate_primes(start, end):\n",
    "    if start < 0 or end < 0:\n",
    "        raise ValueError(\"Both start and end must be positive integers.\")\n",
    "    \n",
    "    primes = [num for num in range(start, end + 1) if is_prime(num)]\n",
    "    return primes\n",
    "\n",
    "try:\n",
    "    start = int(input(\"Enter the starting positive integer: \"))\n",
    "    end = int(input(\"Enter the ending positive integer: \"))\n",
    "\n",
    "    result = generate_primes(start, end)\n",
    "    print(\"Prime numbers between\", start, \"and\", end, \"are:\", result)\n",
    "\n",
    "except ValueError as e:\n",
    "    print(f\"Error: {e}\")\n"
   ]
  },
  {
   "cell_type": "code",
   "execution_count": null,
   "id": "dcefaeee",
   "metadata": {},
   "outputs": [],
   "source": []
  }
 ],
 "metadata": {
  "kernelspec": {
   "display_name": "Python 3 (ipykernel)",
   "language": "python",
   "name": "python3"
  },
  "language_info": {
   "codemirror_mode": {
    "name": "ipython",
    "version": 3
   },
   "file_extension": ".py",
   "mimetype": "text/x-python",
   "name": "python",
   "nbconvert_exporter": "python",
   "pygments_lexer": "ipython3",
   "version": "3.9.13"
  }
 },
 "nbformat": 4,
 "nbformat_minor": 5
}
